{
 "cells": [
  {
   "cell_type": "code",
   "execution_count": null,
   "metadata": {
    "collapsed": true
   },
   "outputs": [],
   "source": [
    "#  5 grocery store data -> num_likes, num_pos, num_negs"
   ]
  },
  {
   "cell_type": "code",
   "execution_count": 5,
   "metadata": {
    "scrolled": true
   },
   "outputs": [
    {
     "name": "stderr",
     "output_type": "stream",
     "text": [
      "/Users/seoyeonchang/anaconda/lib/python2.7/site-packages/sklearn/cross_validation.py:44: DeprecationWarning: This module was deprecated in version 0.18 in favor of the model_selection module into which all the refactored classes and functions are moved. Also note that the interface of the new CV iterators are different from that of this module. This module will be removed in 0.20.\n",
      "  \"This module will be removed in 0.20.\", DeprecationWarning)\n",
      "/Users/seoyeonchang/anaconda/lib/python2.7/site-packages/sklearn/learning_curve.py:23: DeprecationWarning: This module was deprecated in version 0.18 in favor of the model_selection module into which all the functions are moved. This module will be removed in 0.20\n",
      "  DeprecationWarning)\n"
     ]
    }
   ],
   "source": [
    "import pandas as pd\n",
    "import numpy as np\n",
    "from numpy import random\n",
    "import nltk\n",
    "import re\n",
    "from sklearn.model_selection import train_test_split\n",
    "from sklearn import linear_model\n",
    "from sklearn.metrics import accuracy_score,confusion_matrix\n",
    "import matplotlib.pyplot as plt \n",
    "import seaborn as sns\n",
    "from sklearn.neighbors import KNeighborsClassifier\n",
    "from sklearn.linear_model import LogisticRegression, LogisticRegressionCV\n",
    "from nltk.corpus import stopwords\n",
    "import gensim\n",
    "\n",
    "from sklearn.feature_extraction.text import CountVectorizer, TfidfTransformer, TfidfVectorizer \n",
    "from sklearn.feature_extraction.text import TfidfTransformer\n",
    "from sklearn.feature_extraction.text import TfidfVectorizer\n",
    "from sklearn.learning_curve import learning_curve\n",
    "from sklearn.cross_validation import train_test_split, cross_val_score, ShuffleSplit\n",
    "from sklearn.metrics import classification_report\n",
    "from sklearn.naive_bayes import MultinomialNB, BernoulliNB, GaussianNB\n",
    "from scipy import stats\n",
    "from sklearn.pipeline import Pipeline\n",
    "\n",
    "import sys\n",
    "sys.path.insert(0, './readability/')\n",
    "sys.path.insert(0, './cleaning/')\n",
    "\n",
    "from readability import Readability \n",
    "from text_cleaner import replace_with_regex\n",
    "\n",
    "sns.set_style(\"darkgrid\")\n",
    "\n",
    "%matplotlib inline"
   ]
  },
  {
   "cell_type": "markdown",
   "metadata": {},
   "source": [
    "### Num_likes"
   ]
  },
  {
   "cell_type": "code",
   "execution_count": 74,
   "metadata": {
    "collapsed": true,
    "scrolled": true
   },
   "outputs": [],
   "source": [
    "# read csv \n",
    "wholefoods = pd.read_csv('./datasets/WholeFoods_facebook_statuses.csv')\n",
    "sprouts = pd.read_csv('./datasets/SproutsFarmersMarket_facebook_statuses.csv')\n",
    "walmart = pd.read_csv('./datasets/walmart_facebook_statuses.csv')\n",
    "safeway = pd.read_csv('./datasets/Safeway_facebook_statuses.csv')\n",
    "kroger = pd.read_csv('./datasets/Kroger_facebook_statuses.csv')\n",
    "\n",
    "# create dataframe list\n",
    "df_list = [wholefoods, sprouts, walmart, safeway, kroger]\n",
    "\n",
    "# set the name of column of emotions I'll analyze\n",
    "emotion_type = \"num_likes\"\n",
    "\n",
    "# filter extreme outliers (after looking up distribution of the data)\n",
    "from scipy import stats\n",
    "\n",
    "def filter_outliers(df, percentage):\n",
    "    threshold = stats.scoreatpercentile(df[emotion_type], per=percentage)\n",
    "    df = df[df[emotion_type] <= threshold]\n",
    "    return df\n",
    "\n",
    "for i, df in enumerate(df_list):\n",
    "    new_df = filter_outliers(df, 98)\n",
    "    df_list[i] = new_df\n",
    "\n",
    "# fill_na_and_reset_index \n",
    "def fill_na_and_reset_index(df):\n",
    "    # fillna with \"\"(empty string)\n",
    "    df = df.replace(np.nan,'', regex=True)\n",
    "    # reset index\n",
    "    df.index = range(df.shape[0])\n",
    "    return df\n",
    "\n",
    "for i, df in enumerate(df_list):\n",
    "    new_df = fill_na_and_reset_index(df)\n",
    "    df_list[i] = new_df\n",
    "\n",
    "# filter out posts with a very small number of likes(cut off: least 2%)\n",
    "\n",
    "def filter_low_scores(df, percentage):\n",
    "    least_ten = stats.scoreatpercentile(df.num_likes, per=percentage)\n",
    "    df = df[df.num_likes >= least_ten]\n",
    "    return df\n",
    "\n",
    "for i, df in enumerate(df_list):\n",
    "    new_df = filter_low_scores(df, 2)\n",
    "    df_list[i] = new_df\n",
    "    \n",
    "# fill_na_and_reset_index again\n",
    "for i, df in enumerate(df_list):\n",
    "    new_df = fill_na_and_reset_index(df)\n",
    "    df_list[i] = new_df\n",
    "\n",
    "# normalize the data dividing num_likes by the number of fans who like the each page(May 26, 2017)\n",
    "num_like_page_wholefoods = 4182807.0\n",
    "num_like_page_sprouts = 1382503.0\n",
    "num_like_page_walmart = 33200531.0\n",
    "num_like_page_safeway = 1300844.0\n",
    "num_like_page_kroger = 1393202.0\n",
    "\n",
    "df_list[0][emotion_type] = df_list[0][emotion_type].map(lambda x: x / num_like_page_wholefoods)\n",
    "df_list[1][emotion_type] = df_list[1][emotion_type].map(lambda x: x / num_like_page_sprouts)\n",
    "df_list[2][emotion_type] = df_list[2][emotion_type].map(lambda x: x / num_like_page_walmart)\n",
    "df_list[3][emotion_type] = df_list[3][emotion_type].map(lambda x: x / num_like_page_safeway)\n",
    "df_list[4][emotion_type] = df_list[4][emotion_type].map(lambda x: x / num_like_page_kroger)\n",
    "    \n",
    "\n",
    "def df_combine_clean(df):\n",
    "    # fillna with \"\"(empty string)\n",
    "    df = df.replace(np.nan,'', regex=True)\n",
    "\n",
    "    # reset index\n",
    "    df.index = range(df.shape[0])\n",
    "\n",
    "    # fill na with empty string\n",
    "    df[\"status_message\"] = df[\"status_message\"].fillna(\"\")\n",
    "    df[\"link_name\"] = df[\"link_name\"].fillna(\"\")\n",
    "\n",
    "    # combine 'status messsage' and 'link name' column into 'text column' \n",
    "    df[\"text\"] = df[\"status_message\"].map(str) + \" \" + df[\"link_name\"]\n",
    "\n",
    "    # clean text column with 'replace_with_regex' function\n",
    "    # remove numbers, special characters\n",
    "    df['text'] = df['text'].map(lambda x: replace_with_regex(x))\n",
    "\n",
    "    return df\n",
    "\n",
    "for i, df in enumerate(df_list):\n",
    "    new_df = df_combine_clean(df)\n",
    "    df_list[i] = new_df\n",
    "\n",
    "# reformulate df with columns relavant for modeling\n",
    "def reformulate_df(df):\n",
    "    df = df[['status_type', emotion_type, 'text', 'status_message', 'link_name', 'status_published']]\n",
    "    return df\n",
    "\n",
    "for i, df in enumerate(df_list):\n",
    "    new_df = reformulate_df(df)\n",
    "    df_list[i] = new_df\n",
    "    \n",
    "# combine 5 dataframes into one\n",
    "df = pd.concat(df_list, axis =0)\n",
    "\n",
    "#include more stopwords after looking into the text data for each dataset\n",
    "stop = stopwords.words('english')\n",
    "new_stop = [\"timeline\", \"photos\", \"th\", \"wholefoodsmarket\", \"com\", \"http\", \"archive\", \"weve\", \"www\",\n",
    "           'whole', \"market\", \"do\", \"you\", \"blog\", \"here\", \"timeline photos\", \"throughout\", \"us\", \n",
    "            \"know\", \"would\", \"users\", \"nan\", \"cover\", \"https\", \"facebook\", \"instagram\", \"user\",\n",
    "           \"aack\", \"sprouts\", \"farmers\", \"market\", \"com\", \"brand\", \"phoenix\", \"az\", \"grand\", \"express\", \n",
    "            \"enter\", \"win\", \"timeline\", \"location\", \"express\", \"high\", \"street\", \"access\", \"complete\", \n",
    "            \"winning\", \"item\", \"right\", \"facebook\", \"photos\", \"great\",  \"get\", \"abc\", \"sharing\", \"activity\", \n",
    "            \"year\", \"acts\", \"actual\", \"actually\", \"yet\", \"walmart\", \"better\", \"black\", \"www\", \"first\", \"everything\",\n",
    "            \"store\", \"back\", \"tell\", \"us\", \"timeline\", \"cover\", \"photo\", \"use\", \"vary\", \"pinterest\", \"able\",\n",
    "           \"time\" , \"tab\", \"savings\", \"board\", \"next\", \"online\", \"time\", \"restrictions\", \"apply\", \"like\", \"timeline\", \n",
    "            \"photos\", \"kroger\", \"com\", \"must\", \"redeem\", \"pm\", \"pt\", \"redeem\", \"join\", \"us\", \"chance\", \"win\", \"tell\", \n",
    "            \"us\", \"breast\", \"cancer\", \"new\", \"year\", \"show\", \"us\", \"coca\", \"cola\", \"january\", \"th\", \"oh\", \"june\", \n",
    "            \"first\", \"customers\", \"receive\",\"oz pm pt\"]\n",
    "\n",
    "stop.extend(new_stop)\n",
    "\n",
    "def create_target(df):\n",
    "    # mean of num_loves col\n",
    "    mean = df[emotion_type].mean()\n",
    "    # create a target column for classification dividing num_loves into 2 classes\n",
    "    df['target'] = df[emotion_type].map(lambda x: 1 if x > mean else 0)\n",
    "    return df\n",
    "\n",
    "df = create_target(df)\n",
    "    \n",
    "# fill_na_and_reset_index again\n",
    "df = fill_na_and_reset_index(df)\n",
    "    \n",
    "# I won't use ngram_range for classification because ngrams increases the number of columns \n",
    "# more text columns, less accurate prediction\n",
    "\n",
    "# Tfidf Vectorizer in order to make text sparse matrix\n",
    "tvt =  TfidfVectorizer(strip_accents='unicode', stop_words = stop, min_df=2)\n",
    "X_all=  tvt.fit_transform(df[\"text\"])\n",
    "x_df =  pd.DataFrame(X_all.toarray(), columns=tvt.get_feature_names())\n",
    "\n",
    "# feature engineering -> create new columns for length of text\n",
    "\n",
    "# create new columns for length of 2 text columns(status message & link name)\n",
    "df['len_status_message'] = df['status_message'].map(lambda x: len(x))\n",
    "df['len_link_name'] = df['link_name'].map(lambda x: len(x))\n",
    "\n",
    "len_text = df[['len_status_message', 'len_link_name']]\n",
    "\n",
    "#combine x_df + len_text to create predictor df\n",
    "df_len_text = pd.concat([x_df, len_text], axis=1)\n",
    "\n",
    "# fill_na_and_reset_index again\n",
    "final_df = fill_na_and_reset_index(df_len_text)\n",
    "\n",
    "final_df = x_df\n",
    "\n",
    "final_df['target'] = df.target\n",
    "\n",
    "df_0 = final_df[final_df.target == 0] \n",
    "df_1 = final_df[final_df.target == 1]\n",
    "\n",
    "assert(df.shape[0] == df_0.shape[0] + df_1.shape[0])\n",
    "\n",
    "df_1_oversample = df_1.sample(n=df_0.shape[0], replace=True)\n",
    "# df_0_subsample = df_0.sample(n=df_1.shape[0], replace=True)\n",
    "df_balanced = df_0.append(df_1_oversample)\n",
    "\n",
    "# predictors and target\n",
    "X = df_balanced\n",
    "y = df_balanced['target']\n",
    "\n",
    "# train test split\n",
    "del(X['target'])\n",
    "X_train, X_test, y_train, y_test = train_test_split(X.as_matrix(), y, train_size=0.7, random_state=8)\n",
    "\n",
    "# AdaBoostClassifier using DeicisionClassifier\n",
    "from sklearn.ensemble import AdaBoostClassifier\n",
    "from sklearn.tree import DecisionTreeClassifier\n",
    "dc = DecisionTreeClassifier(min_samples_leaf=4, min_samples_split=50, max_depth=50, random_state=11, max_features=.8, class_weight=\"balanced\")\n",
    "estimator = AdaBoostClassifier(base_estimator=dc, n_estimators=40, learning_rate=.001)\n",
    "estimator.fit(X_train, y_train)\n",
    "print \"AdaBoostClassifier Score: \", estimator.score(X_test, y_test) #0.9125"
   ]
  },
  {
   "cell_type": "code",
   "execution_count": 7,
   "metadata": {},
   "outputs": [
    {
     "name": "stdout",
     "output_type": "stream",
     "text": [
      "             precision    recall  f1-score   support\n",
      "\n",
      "          0       0.93      0.79      0.86      3722\n",
      "          1       0.82      0.94      0.88      3813\n",
      "\n",
      "avg / total       0.88      0.87      0.87      7535\n",
      "\n"
     ]
    }
   ],
   "source": [
    "#classification report\n",
    "from sklearn.metrics import classification_report, confusion_matrix\n",
    "\n",
    "predicted = estimator.predict(X_test)\n",
    "clfr = classification_report(y_test, predicted)\n",
    "\n",
    "print clfr"
   ]
  },
  {
   "cell_type": "code",
   "execution_count": 10,
   "metadata": {
    "scrolled": true
   },
   "outputs": [
    {
     "data": {
      "text/plain": [
       "<matplotlib.axes._subplots.AxesSubplot at 0x11206c950>"
      ]
     },
     "execution_count": 10,
     "metadata": {},
     "output_type": "execute_result"
    },
    {
     "data": {
      "image/png": "[encoded data removed]",
      "text/plain": [
       "<matplotlib.figure.Figure at 0x1134d3490>"
      ]
     },
     "metadata": {},
     "output_type": "display_data"
    }
   ],
   "source": [
    "importances = estimator.feature_importances_\n",
    "feature_importance = pd.DataFrame(data=importances, index=X.columns, columns=[\"importance\"])\n",
    "feature_importance.sort_values('importance', ascending=False)[0:12].plot(kind='bar')"
   ]
  },
  {
   "cell_type": "code",
   "execution_count": 41,
   "metadata": {
    "collapsed": true
   },
   "outputs": [],
   "source": [
    "# create new columns for length of 2 text columns(status message & link name)\n",
    "df['len_status_message'] = df['status_message'].map(lambda x: len(x))\n",
    "df['len_link_name'] = df['link_name'].map(lambda x: len(x))\n"
   ]
  },
  {
   "cell_type": "code",
   "execution_count": 42,
   "metadata": {
    "scrolled": true
   },
   "outputs": [
    {
     "data": {
      "text/plain": [
       "Index([u'status_type', u'num_likes', u'text', u'status_message', u'link_name',\n",
       "       u'target', u'len_status_message', u'len_link_name'],\n",
       "      dtype='object')"
      ]
     },
     "execution_count": 42,
     "metadata": {},
     "output_type": "execute_result"
    }
   ],
   "source": [
    "df.columns"
   ]
  },
  {
   "cell_type": "code",
   "execution_count": 43,
   "metadata": {
    "collapsed": true
   },
   "outputs": [],
   "source": [
    "mean = df['num_likes'].mean()\n",
    "df['target'] = df['num_likes'].map(lambda x: 1 if x > mean else 0)"
   ]
  },
  {
   "cell_type": "code",
   "execution_count": 18,
   "metadata": {
    "collapsed": true
   },
   "outputs": [],
   "source": [
    "df_1 = df[df['target'] == 1]\n",
    "df_0 = df[df['target'] == 0]"
   ]
  },
  {
   "cell_type": "code",
   "execution_count": 22,
   "metadata": {},
   "outputs": [
    {
     "data": {
      "text/plain": [
       "(2304, 10)"
      ]
     },
     "execution_count": 22,
     "metadata": {},
     "output_type": "execute_result"
    }
   ],
   "source": [
    "df_1.shape"
   ]
  },
  {
   "cell_type": "code",
   "execution_count": 23,
   "metadata": {},
   "outputs": [
    {
     "data": {
      "text/plain": [
       "(12558, 10)"
      ]
     },
     "execution_count": 23,
     "metadata": {},
     "output_type": "execute_result"
    }
   ],
   "source": [
    "df_0.shape"
   ]
  },
  {
   "cell_type": "code",
   "execution_count": 21,
   "metadata": {
    "scrolled": true
   },
   "outputs": [
    {
     "name": "stdout",
     "output_type": "stream",
     "text": [
      "<class 'pandas.core.frame.DataFrame'>\n",
      "Int64Index: 14862 entries, 0 to 14861\n",
      "Data columns (total 10 columns):\n",
      "status_type           14862 non-null object\n",
      "num_likes             14862 non-null float64\n",
      "text                  14862 non-null object\n",
      "status_message        14862 non-null object\n",
      "link_name             14862 non-null object\n",
      "target                14862 non-null int64\n",
      "len_status_message    14862 non-null int64\n",
      "len_link_name         14862 non-null int64\n",
      "len_status_message    14862 non-null int64\n",
      "len_link_name         14862 non-null int64\n",
      "dtypes: float64(1), int64(5), object(4)\n",
      "memory usage: 1.2+ MB\n"
     ]
    }
   ],
   "source": [
    "df.info()"
   ]
  },
  {
   "cell_type": "code",
   "execution_count": 46,
   "metadata": {
    "scrolled": true
   },
   "outputs": [
    {
     "name": "stdout",
     "output_type": "stream",
     "text": [
      "target\n",
      "0    20.489409\n",
      "1    15.342014\n",
      "Name: len_link_name, dtype: float64\n"
     ]
    },
    {
     "data": {
      "text/plain": [
       "<seaborn.axisgrid.FacetGrid at 0x1132f09d0>"
      ]
     },
     "execution_count": 46,
     "metadata": {},
     "output_type": "execute_result"
    },
    {
     "data": {
      "image/png": "[encoded data removed]",
      "text/plain": [
       "<matplotlib.figure.Figure at 0x157a08550>"
      ]
     },
     "metadata": {},
     "output_type": "display_data"
    }
   ],
   "source": [
    "print(df.groupby('target')['len_link_name'].mean())\n",
    "sns.factorplot(x='target', y='len_link_name',\n",
    "               data=df, kind='bar', aspect=3).set_xticklabels(rotation=45, horizontalalignment='right')"
   ]
  },
  {
   "cell_type": "code",
   "execution_count": 47,
   "metadata": {
    "scrolled": true
   },
   "outputs": [
    {
     "name": "stdout",
     "output_type": "stream",
     "text": [
      "target\n",
      "0    164.840819\n",
      "1    157.501302\n",
      "Name: len_status_message, dtype: float64\n"
     ]
    },
    {
     "data": {
      "text/plain": [
       "<seaborn.axisgrid.FacetGrid at 0x1132f0850>"
      ]
     },
     "execution_count": 47,
     "metadata": {},
     "output_type": "execute_result"
    },
    {
     "data": {
      "image/png": "[encoded data removed]",
      "text/plain": [
       "<matplotlib.figure.Figure at 0x1133d8810>"
      ]
     },
     "metadata": {},
     "output_type": "display_data"
    }
   ],
   "source": [
    "print(df.groupby('target')['len_status_message'].mean())\n",
    "sns.factorplot(x='target', y='len_status_message',\n",
    "               data=df, kind='bar', aspect=3).set_xticklabels(rotation=45, horizontalalignment='right')"
   ]
  },
  {
   "cell_type": "code",
   "execution_count": 95,
   "metadata": {
    "scrolled": true
   },
   "outputs": [
    {
     "data": {
      "text/plain": [
       "'Try this vegetarian Matzoh Ball Soup during Passover that uses garlic pure\\xc3\\xa9 in place of schmaltz. Roasted Garlic Matzoh Ball Soup'"
      ]
     },
     "execution_count": 95,
     "metadata": {},
     "output_type": "execute_result"
    }
   ],
   "source": [
    "df_0.text.iloc[45]"
   ]
  },
  {
   "cell_type": "code",
   "execution_count": 50,
   "metadata": {
    "scrolled": true
   },
   "outputs": [
    {
     "data": {
      "text/plain": [
       "0        Easy prep, endless possibilities! Stock up on ...\n",
       "1        TeamCauliflower or TeamKale? Cauliflower Is th...\n",
       "2        Meet the newest products you can't live withou...\n",
       "3        It's just like tuna salad, only it's vegan! Ge...\n",
       "4        Say hello to May! 🌼  Fresh Spring Party Ideas...\n",
       "5        It's mealprep time! Make this tonight, enjoy a...\n",
       "6         ways to use this limited-edition Tequila Lime...\n",
       "7        Rise and shine! Power up with this Blueberry M...\n",
       "9        Stock up on this week's DelishDeals through /....\n",
       "10       Calling all cheese lovers! Try it: The Creamie...\n",
       "11       If you're in Northern California... Swing by f...\n",
       "12       Mornings are a little sweeter with an Apple Pi...\n",
       "13                            Time to stock up! Hello Glow\n",
       "14       Prep snap peas in a snap with this super quick...\n",
       "15       If you're in the Austin area, let us know what...\n",
       "16       Our fave new products this week include Simple...\n",
       "17       Get a behind-the-scenes look from A Taste of K...\n",
       "18                          Perfect for 🍝 . Recipe here: \n",
       "19       🌱 🌱 🌱 🌱 🌱 🌱 🌱 🌱 🌱 🌱 How This Urban F...\n",
       "20                                    So fresh. So green. \n",
       "21       From artichokes to leeks, it's time to prep! O...\n",
       "22       Up your brunch game, one egg boat at a time. �...\n",
       "23       Tonight's dinner? ALL THE NOODLES! Recipe insp...\n",
       "24       Snack your way through EarthDay!  Plant-Based ...\n",
       "25       Happy EarthDay! 🌎 Celebrate & save  on a  pur...\n",
       "26       Simple and sweet, we've found your fave new sn...\n",
       "27       Get ready to celebrate tomorrow! 🌎 Guide to t...\n",
       "28        Dress up asparagus this spring. Get the recipe: \n",
       "29       Vegan & gluten-free snack alert! Make these Ka...\n",
       "30        easy tips for clean eating. Why Clean Eating ...\n",
       "                               ...                        \n",
       "14832    What's on your Memorial Day menu? Remember to ...\n",
       "14833    Hurry! The Design a Reusable Shopping Bag Cont...\n",
       "14834    Planning a graduation party? Save time and mon...\n",
       "14835    Designed a reusable bag yet? Create one today ...\n",
       "14836    Kroger loves moms, so we're making it easy for...\n",
       "14837    Great news, coupon lovers! We now have more di...\n",
       "14838    Way to go, Juliet L.! She won Pillsbury's Bake...\n",
       "14839    YUM! Winning never tasted so good. Our Private...\n",
       "14840    Here's an easy \"recipe\" for fried or baked chi...\n",
       "14841    Happy Earth Day from Kroger! How do you rememb...\n",
       "14842    Want to feed a family of four for less than ? ...\n",
       "14843    Showcase your creativity in our Design a Reusa...\n",
       "14844    Get FREE movies, music or rinones with Digital...\n",
       "14845    Just  days until the Pillsbury Bake-Off® Conte...\n",
       "14846                           Hoppy Easter from Kroger! \n",
       "14847    Over , winners in our March to Savings Sweepst...\n",
       "14848                 Enter for a chance to win a  prize! \n",
       "14849    Hit the Hoops in Our March to Savings Sweepsta...\n",
       "14850                            Free Holiday Phone Calls \n",
       "14851    Hey fans - we're giving away Kroger Deluxe Ice...\n",
       "14852                    Kroger Deluxe Ice Cream Giveaway \n",
       "14853    We're giving away Kroger Deluxe Ice Cream over...\n",
       "14854    Time is Running Out...enter once a day through...\n",
       "14855    Here are some more details on promotions plann...\n",
       "14856    Did you know we launched a Twitter account cal...\n",
       "14857    Kroger Free Gas & Groceries SweepstakesEnter t...\n",
       "14858    The Design a Reusable Shopping Bag Contest wit...\n",
       "14859                              Kroger's th Anniversary\n",
       "14860     Kroger inducted into Billon Dollar Roundtable...\n",
       "14861                  Kroger named \"Retailer of the Year\"\n",
       "Name: text, dtype: object"
      ]
     },
     "execution_count": 50,
     "metadata": {},
     "output_type": "execute_result"
    }
   ],
   "source": [
    "df_0.text"
   ]
  },
  {
   "cell_type": "code",
   "execution_count": 58,
   "metadata": {
    "scrolled": true
   },
   "outputs": [
    {
     "data": {
      "text/plain": [
       "<matplotlib.text.Text at 0x112f91e90>"
      ]
     },
     "execution_count": 58,
     "metadata": {},
     "output_type": "execute_result"
    },
    {
     "data": {
      "image/png": "[encoded data removed]",
      "text/plain": [
       "<matplotlib.figure.Figure at 0x112389810>"
      ]
     },
     "metadata": {},
     "output_type": "display_data"
    }
   ],
   "source": [
    "ax = df.status_type.value_counts().plot(kind=\"bar\", rot=0)\n",
    "ax.set_title(\"Mean of num_likes by status type\")\n",
    "ax.set_ylabel(\"post count\")"
   ]
  },
  {
   "cell_type": "code",
   "execution_count": 72,
   "metadata": {
    "collapsed": true
   },
   "outputs": [],
   "source": [
    "from nltk.corpus import stopwords\n",
    "stop = stopwords.words('english')\n",
    "#include more stopwords after looking into the text data for each dataset\n",
    "stop = stopwords.words('english')\n",
    "new_stop = [\"timeline\", \"photos\", \"th\", \"wholefoodsmarket\", \"com\", \"http\", \"archive\", \"weve\", \"www\",\n",
    "           'whole', \"market\", \"do\", \"you\", \"blog\", \"here\", \"timeline photos\", \"throughout\", \"us\", \n",
    "            \"know\", \"would\", \"users\", \"nan\", \"cover\", \"https\", \"facebook\", \"instagram\", \"user\",\n",
    "           \"aack\", \"sprouts\", \"farmers\", \"market\", \"com\", \"brand\", \"phoenix\", \"az\", \"grand\", \"express\", \n",
    "            \"enter\", \"win\", \"timeline\", \"location\", \"express\", \"high\", \"street\", \"access\", \"complete\", \n",
    "            \"winning\", \"item\", \"right\", \"facebook\", \"photos\", \"great\",  \"get\", \"abc\", \"sharing\", \"activity\", \n",
    "            \"year\", \"acts\", \"actual\", \"actually\", \"yet\", \"walmart\", \"better\", \"black\", \"www\", \"first\", \"everything\",\n",
    "            \"store\", \"back\", \"tell\", \"us\", \"timeline\", \"cover\", \"photo\", \"use\", \"vary\", \"pinterest\", \"able\",\n",
    "           \"time\" , \"tab\", \"savings\", \"board\", \"next\", \"online\", \"time\", \"restrictions\", \"apply\", \"like\", \"timeline\", \n",
    "            \"photos\", \"kroger\", \"com\", \"must\", \"redeem\", \"pm\", \"pt\", \"redeem\", \"join\", \"us\", \"chance\", \"win\", \"tell\", \n",
    "            \"us\", \"breast\", \"cancer\", \"new\", \"year\", \"show\", \"us\", \"coca\", \"cola\", \"january\", \"th\", \"oh\", \"june\", \n",
    "            \"first\", \"customers\", \"receive\",\"oz pm pt\", \"gift card\", \"gift cards\", 'gift', 'card', 'cards', 'co',\n",
    "           'associates']\n",
    "\n",
    "stop.extend(new_stop)\n",
    "\n",
    "\n",
    "# Can't see any difference from histogram without stopwords\n",
    "# I need to look into the n-grams(most frequent + least frequent) and decide to include more stopwords\n",
    "cvt      =  CountVectorizer(strip_accents='unicode', stop_words=stop, ngram_range=(2,4))\n",
    "X_all    =  cvt.fit_transform(df_1['text'])\n",
    "# hist_counts(X_all)"
   ]
  },
  {
   "cell_type": "markdown",
   "metadata": {},
   "source": [
    "## Positive vs negative Reactions"
   ]
  },
  {
   "cell_type": "markdown",
   "metadata": {},
   "source": [
    "### Positive reactions"
   ]
  },
  {
   "cell_type": "code",
   "execution_count": null,
   "metadata": {
    "collapsed": true
   },
   "outputs": [],
   "source": [
    "# read csv \n",
    "wholefoods = pd.read_csv('./datasets/WholeFoods_facebook_statuses.csv')\n",
    "sprouts = pd.read_csv('./datasets/SproutsFarmersMarket_facebook_statuses.csv')\n",
    "walmart = pd.read_csv('./datasets/walmart_facebook_statuses.csv')\n",
    "safeway = pd.read_csv('./datasets/Safeway_facebook_statuses.csv')\n",
    "kroger = pd.read_csv('./datasets/Kroger_facebook_statuses.csv')\n",
    "\n",
    "# create dataframe list\n",
    "df_list = [wholefoods, sprouts, walmart, safeway, kroger]\n",
    "\n",
    "# create a new columns called num_of_pos which sums up the total number of positive reactions \n",
    "def create_num_pos_col(df):\n",
    "    df['num_pos'] = df['num_loves'] + df['num_hahas'] + df['num_wows']\n",
    "    return df\n",
    "\n",
    "for i, df in enumerate(df_list):\n",
    "    new_df = create_num_pos_col(df)\n",
    "    df_list[i] = new_df\n",
    "\n",
    "# set the name of column of emotions I'll analyze\n",
    "emotion_type = \"num_pos\"\n",
    "\n",
    "# cut out rows before Mar 2016 when Facebook included various sub emojies \n",
    "# such as loves, wows, hahas, sads, angrys\n",
    "# in order to analyze the relationship between those emojis and texts\n",
    "import datetime as dt\n",
    "\n",
    "def filter_out_before_march_2016(df):\n",
    "    # transform 'status_published' column into datetime object\n",
    "    df['status_published'] = pd.to_datetime(df['status_published'])\n",
    "    # create new columns for year and month \n",
    "    df['year'] = df['status_published'].dt.year\n",
    "    df['month'] = df['status_published'].dt.month\n",
    "    # filter out rows before March 2016\n",
    "    df = df[df['year'] > 2016]\n",
    "    df = df[df['month'] >= 3]\n",
    "    return df\n",
    "\n",
    "for i, df in enumerate(df_list):\n",
    "    new_df = filter_out_before_march_2016(df)\n",
    "    df_list[i] = new_df\n",
    "\n",
    "def fill_na_and_reset_index(df):\n",
    "    # fillna with \"\"(empty string)\n",
    "    df = df.replace(np.nan,'', regex=True)\n",
    "    # reset index\n",
    "    df.index = range(df.shape[0])\n",
    "    return df\n",
    "\n",
    "for i, df in enumerate(df_list):\n",
    "    new_df = fill_na_and_reset_index(df)\n",
    "    df_list[i] = new_df\n",
    "\n",
    "# filter extreme outliers (after looking up distribution of the data)\n",
    "from scipy import stats\n",
    "\n",
    "def filter_outliers(df, percentage):\n",
    "    threshold = stats.scoreatpercentile(df[emotion_type], per=percentage)\n",
    "    df = df[df[emotion_type] <= threshold]\n",
    "    return df\n",
    "\n",
    "for i, df in enumerate(df_list):\n",
    "    new_df = filter_outliers(df, 98)\n",
    "    df_list[i] = new_df\n",
    "\n",
    "# fill_na_and_reset_index again\n",
    "for i, df in enumerate(df_list):\n",
    "    new_df = fill_na_and_reset_index(df)\n",
    "    df_list[i] = new_df\n",
    "\n",
    "# filter out posts with a very small number of likes(cut off: least 2%)\n",
    "\n",
    "def filter_low_scores(df, percentage):\n",
    "    least_ten = stats.scoreatpercentile(df.num_likes, per=percentage)\n",
    "    df = df[df.num_likes >= least_ten]\n",
    "    return df\n",
    "\n",
    "for i, df in enumerate(df_list):\n",
    "    new_df = filter_low_scores(df, 2)\n",
    "    df_list[i] = new_df\n",
    "    \n",
    "# fill_na_and_reset_index again\n",
    "for i, df in enumerate(df_list):\n",
    "    new_df = fill_na_and_reset_index(df)\n",
    "    df_list[i] = new_df\n",
    "\n",
    "# normalize the data dividing num_likes by the number of fans who like the each page(May 26, 2017)\n",
    "num_like_page_wholefoods = 4182807.0\n",
    "num_like_page_sprouts = 1382503.0\n",
    "num_like_page_walmart = 33200531.0\n",
    "num_like_page_safeway = 1300844.0\n",
    "num_like_page_kroger = 1393202.0\n",
    "\n",
    "df_list[0][emotion_type] = df_list[0][emotion_type].map(lambda x: x / num_like_page_wholefoods)\n",
    "df_list[1][emotion_type] = df_list[1][emotion_type].map(lambda x: x / num_like_page_sprouts)\n",
    "df_list[2][emotion_type] = df_list[2][emotion_type].map(lambda x: x / num_like_page_walmart)\n",
    "df_list[3][emotion_type] = df_list[3][emotion_type].map(lambda x: x / num_like_page_safeway)\n",
    "df_list[4][emotion_type] = df_list[4][emotion_type].map(lambda x: x / num_like_page_kroger)\n",
    "    \n",
    "\n",
    "def df_combine_clean(df):\n",
    "    # fillna with \"\"(empty string)\n",
    "    df = df.replace(np.nan,'', regex=True)\n",
    "\n",
    "    # reset index\n",
    "    df.index = range(df.shape[0])\n",
    "\n",
    "    # fill na with empty string\n",
    "    df[\"status_message\"] = df[\"status_message\"].fillna(\"\")\n",
    "    df[\"link_name\"] = df[\"link_name\"].fillna(\"\")\n",
    "\n",
    "    # combine 'status messsage' and 'link name' column into 'text column' \n",
    "    df[\"text\"] = df[\"status_message\"].map(str) + \" \" + df[\"link_name\"]\n",
    "\n",
    "    # clean text column with 'replace_with_regex' function\n",
    "    # remove numbers, special characters\n",
    "    df['text'] = df['text'].map(lambda x: replace_with_regex(x))\n",
    "\n",
    "    return df\n",
    "\n",
    "for i, df in enumerate(df_list):\n",
    "    new_df = df_combine_clean(df)\n",
    "    df_list[i] = new_df\n",
    "\n",
    "# reformulate df with columns relavant for modeling\n",
    "def reformulate_df(df):\n",
    "    df = df[['status_type', emotion_type, 'text', 'status_message', 'link_name']]\n",
    "    return df\n",
    "\n",
    "for i, df in enumerate(df_list):\n",
    "    new_df = reformulate_df(df)\n",
    "    df_list[i] = new_df\n",
    "    \n",
    "# combine 5 dataframes into one\n",
    "df = pd.concat(df_list, axis =0)\n",
    "\n",
    "#include more stopwords after looking into the text data for each dataset\n",
    "stop = stopwords.words('english')\n",
    "new_stop = [\"timeline\", \"photos\", \"th\", \"wholefoodsmarket\", \"com\", \"http\", \"archive\", \"weve\", \"www\",\n",
    "           'whole', \"market\", \"do\", \"you\", \"blog\", \"here\", \"timeline photos\", \"throughout\", \"us\", \n",
    "            \"know\", \"would\", \"users\", \"nan\", \"cover\", \"https\", \"facebook\", \"instagram\", \"user\",\n",
    "           \"aack\", \"sprouts\", \"farmers\", \"market\", \"com\", \"brand\", \"phoenix\", \"az\", \"grand\", \"express\", \n",
    "            \"enter\", \"win\", \"timeline\", \"location\", \"express\", \"high\", \"street\", \"access\", \"complete\", \n",
    "            \"winning\", \"item\", \"right\", \"facebook\", \"photos\", \"great\",  \"get\", \"abc\", \"sharing\", \"activity\", \n",
    "            \"year\", \"acts\", \"actual\", \"actually\", \"yet\", \"walmart\", \"better\", \"black\", \"www\", \"first\", \"everything\",\n",
    "            \"store\", \"back\", \"tell\", \"us\", \"timeline\", \"cover\", \"photo\", \"use\", \"vary\", \"pinterest\", \"able\",\n",
    "           \"time\" , \"tab\", \"savings\", \"board\", \"next\", \"online\", \"time\", \"restrictions\", \"apply\", \"like\", \"timeline\", \n",
    "            \"photos\", \"kroger\", \"com\", \"must\", \"redeem\", \"pm\", \"pt\", \"redeem\", \"join\", \"us\", \"chance\", \"win\", \"tell\", \n",
    "            \"us\", \"breast\", \"cancer\", \"new\", \"year\", \"show\", \"us\", \"coca\", \"cola\", \"january\", \"th\", \"oh\", \"june\", \n",
    "            \"first\", \"customers\", \"receive\",\"oz pm pt\"]\n",
    "\n",
    "stop.extend(new_stop)\n",
    "\n",
    "\n",
    "\n",
    "def create_target(df):\n",
    "    # mean of num_loves col\n",
    "    mean = df[emotion_type].mean()\n",
    "    # create a target column for classification dividing num_loves into 2 classes\n",
    "    df['target'] = df[emotion_type].map(lambda x: 1 if x > mean else 0)\n",
    "    return df\n",
    "\n",
    "df = create_target(df)\n",
    "    \n",
    "# fill_na_and_reset_index again\n",
    "df = fill_na_and_reset_index(df)\n",
    "    \n",
    "# I won't use ngram_range for classification because ngrams increases the number of columns \n",
    "# more text columns, less accurate prediction\n",
    "\n",
    "# Tfidf Vectorizer in order to make text sparse matrix\n",
    "tvt =  TfidfVectorizer(strip_accents='unicode', stop_words = stop, min_df=2)\n",
    "X_all=  tvt.fit_transform(df[\"text\"])\n",
    "x_df =  pd.DataFrame(X_all.toarray(), columns=tvt.get_feature_names())\n",
    "\n",
    "# feature engineering -> create new columns for length of text\n",
    "\n",
    "# create new columns for length of 2 text columns(status message & link name)\n",
    "df['len_status_message'] = df['status_message'].map(lambda x: len(x))\n",
    "df['len_link_name'] = df['link_name'].map(lambda x: len(x))\n",
    "\n",
    "len_text = df[['len_status_message', 'len_link_name']]\n",
    "\n",
    "#combine x_df + len_text to create predictor df\n",
    "df_len_text = pd.concat([x_df, len_text], axis=1)\n",
    "\n",
    "# fill_na_and_reset_index again\n",
    "final_df = fill_na_and_reset_index(df_len_text)\n",
    "\n",
    "final_df['target'] = df.target\n",
    "\n",
    "df_0 = final_df[final_df.target == 0] \n",
    "df_1 = final_df[final_df.target == 1]\n",
    "\n",
    "assert(df.shape[0] == df_0.shape[0] + df_1.shape[0])\n",
    "\n",
    "df_1_oversample = df_1.sample(n=df_0.shape[0], replace=True)\n",
    "# df_0_subsample = df_0.sample(n=df_1.shape[0], replace=True)\n",
    "df_balanced = df_0.append(df_1_oversample)\n",
    "\n",
    "# predictors and target\n",
    "X = df_balanced\n",
    "y = df_balanced['target']\n",
    "\n",
    "# train test split\n",
    "del(X['target'])\n",
    "X_train, X_test, y_train, y_test = train_test_split(X.as_matrix(), y, train_size=0.7, random_state=8)\n",
    "\n",
    "# AdaBoostClassifier using DeicisionClassifier\n",
    "from sklearn.ensemble import AdaBoostClassifier\n",
    "from sklearn.tree import DecisionTreeClassifier\n",
    "dc = DecisionTreeClassifier(min_samples_leaf=4, min_samples_split=50, max_depth=50, random_state=11, max_features=.8, class_weight=\"balanced\")\n",
    "estimator = AdaBoostClassifier(base_estimator=dc, n_estimators=40, learning_rate=.001)\n",
    "estimator.fit(X_train, y_train)\n",
    "print \"AdaBoostClassifier Score: \", estimator.score(X_test, y_test) #0.9125"
   ]
  },
  {
   "cell_type": "code",
   "execution_count": null,
   "metadata": {
    "collapsed": true
   },
   "outputs": [],
   "source": [
    "#classification report\n",
    "from sklearn.metrics import classification_report \n",
    "\n",
    "predicted = estimator.predict(X_test)\n",
    "clfr = classification_report(y_test, predicted)\n",
    "\n",
    "print clfr"
   ]
  },
  {
   "cell_type": "code",
   "execution_count": null,
   "metadata": {
    "collapsed": true
   },
   "outputs": [],
   "source": [
    "y_score = estimator.predict_proba(X_test)\n",
    "\n",
    "# ROC \n",
    "from sklearn.metrics import roc_curve, auc\n",
    "\n",
    "fpr, tpr, _ = roc_curve(y_test, y_score[:,1])\n",
    "roc_auc = auc(fpr, tpr)\n",
    "\n",
    "plt.figure(figsize=[8,8])\n",
    "plt.plot(fpr, tpr, color = 'blue', label='ROC curve (area = %0.2f)' % roc_auc, linewidth=4)\n",
    "plt.plot([0, 1], [0, 1], 'k--', linewidth=4)\n",
    "plt.xlim([-0.05, 1.0])\n",
    "plt.ylim([-0.05, 1.05])\n",
    "plt.xlabel('False Positive Rate', fontsize=18)\n",
    "plt.ylabel('True Positive Rate', fontsize=18)\n",
    "plt.title('Num_likes Binary Classification ROC - Logistic Regression', fontsize=18)\n",
    "plt.legend(loc=\"lower right\")\n",
    "plt.show()"
   ]
  },
  {
   "cell_type": "markdown",
   "metadata": {},
   "source": [
    "### Negative reactions"
   ]
  },
  {
   "cell_type": "code",
   "execution_count": null,
   "metadata": {
    "collapsed": true
   },
   "outputs": [],
   "source": [
    "# read csv \n",
    "wholefoods = pd.read_csv('./datasets/WholeFoods_facebook_statuses.csv')\n",
    "sprouts = pd.read_csv('./datasets/SproutsFarmersMarket_facebook_statuses.csv')\n",
    "walmart = pd.read_csv('./datasets/walmart_facebook_statuses.csv')\n",
    "safeway = pd.read_csv('./datasets/Safeway_facebook_statuses.csv')\n",
    "kroger = pd.read_csv('./datasets/Kroger_facebook_statuses.csv')\n",
    "\n",
    "# create dataframe list\n",
    "df_list = [wholefoods, sprouts, walmart, safeway, kroger]\n",
    "\n",
    "# create a new columns called num_of_pos which sums up the total number of positive reactions \n",
    "def create_num_negs_col(df):\n",
    "    df['num_negs'] = df['num_sads'] + df['num_angrys'] \n",
    "    return df\n",
    "\n",
    "for i, df in enumerate(df_list):\n",
    "    new_df = create_num_negs_col(df)\n",
    "    df_list[i] = new_df\n",
    "\n",
    "# set the name of column of emotions I'll analyze\n",
    "emotion_type = \"num_negs\"\n",
    "\n",
    "# cut out rows before Mar 2016 when Facebook included various sub emojies \n",
    "# such as loves, wows, hahas, sads, angrys\n",
    "# in order to analyze the relationship between those emojis and texts\n",
    "import datetime as dt\n",
    "\n",
    "def filter_out_before_march_2016(df):\n",
    "    # transform 'status_published' column into datetime object\n",
    "    df['status_published'] = pd.to_datetime(df['status_published'])\n",
    "    # create new columns for year and month \n",
    "    df['year'] = df['status_published'].dt.year\n",
    "    df['month'] = df['status_published'].dt.month\n",
    "    # filter out rows before March 2016\n",
    "    df = df[df['year'] > 2016]\n",
    "    df = df[df['month'] >= 3]\n",
    "    return df\n",
    "\n",
    "for i, df in enumerate(df_list):\n",
    "    new_df = filter_out_before_march_2016(df)\n",
    "    df_list[i] = new_df\n",
    "\n",
    "def fill_na_and_reset_index(df):\n",
    "    # fillna with \"\"(empty string)\n",
    "    df = df.replace(np.nan,'', regex=True)\n",
    "    # reset index\n",
    "    df.index = range(df.shape[0])\n",
    "    return df\n",
    "\n",
    "for i, df in enumerate(df_list):\n",
    "    new_df = fill_na_and_reset_index(df)\n",
    "    df_list[i] = new_df\n",
    "\n",
    "# filter extreme outliers (after looking up distribution of the data)\n",
    "from scipy import stats\n",
    "\n",
    "def filter_outliers(df, percentage):\n",
    "    threshold = stats.scoreatpercentile(df[emotion_type], per=percentage)\n",
    "    df = df[df[emotion_type] <= threshold]\n",
    "    return df\n",
    "\n",
    "for i, df in enumerate(df_list):\n",
    "    new_df = filter_outliers(df, 98)\n",
    "    df_list[i] = new_df\n",
    "\n",
    "# fill_na_and_reset_index again\n",
    "for i, df in enumerate(df_list):\n",
    "    new_df = fill_na_and_reset_index(df)\n",
    "    df_list[i] = new_df\n",
    "\n",
    "# filter out posts with a very small number of likes(cut off: least 2%)\n",
    "\n",
    "def filter_low_scores(df, percentage):\n",
    "    least_ten = stats.scoreatpercentile(df.num_likes, per=percentage)\n",
    "    df = df[df.num_likes >= least_ten]\n",
    "    return df\n",
    "\n",
    "for i, df in enumerate(df_list):\n",
    "    new_df = filter_low_scores(df, 2)\n",
    "    df_list[i] = new_df\n",
    "    \n",
    "# fill_na_and_reset_index again\n",
    "for i, df in enumerate(df_list):\n",
    "    new_df = fill_na_and_reset_index(df)\n",
    "    df_list[i] = new_df\n",
    "\n",
    "# normalize the data dividing num_likes by the number of fans who like the each page(May 26, 2017)\n",
    "num_like_page_wholefoods = 4182807.0\n",
    "num_like_page_sprouts = 1382503.0\n",
    "num_like_page_walmart = 33200531.0\n",
    "num_like_page_safeway = 1300844.0\n",
    "num_like_page_kroger = 1393202.0\n",
    "\n",
    "df_list[0][emotion_type] = df_list[0][emotion_type].map(lambda x: x / num_like_page_wholefoods)\n",
    "df_list[1][emotion_type] = df_list[1][emotion_type].map(lambda x: x / num_like_page_sprouts)\n",
    "df_list[2][emotion_type] = df_list[2][emotion_type].map(lambda x: x / num_like_page_walmart)\n",
    "df_list[3][emotion_type] = df_list[3][emotion_type].map(lambda x: x / num_like_page_safeway)\n",
    "df_list[4][emotion_type] = df_list[4][emotion_type].map(lambda x: x / num_like_page_kroger)\n",
    "    \n",
    "\n",
    "def df_combine_clean(df):\n",
    "    # fillna with \"\"(empty string)\n",
    "    df = df.replace(np.nan,'', regex=True)\n",
    "\n",
    "    # reset index\n",
    "    df.index = range(df.shape[0])\n",
    "\n",
    "    # fill na with empty string\n",
    "    df[\"status_message\"] = df[\"status_message\"].fillna(\"\")\n",
    "    df[\"link_name\"] = df[\"link_name\"].fillna(\"\")\n",
    "\n",
    "    # combine 'status messsage' and 'link name' column into 'text column' \n",
    "    df[\"text\"] = df[\"status_message\"].map(str) + \" \" + df[\"link_name\"]\n",
    "\n",
    "    # clean text column with 'replace_with_regex' function\n",
    "    # remove numbers, special characters\n",
    "    df['text'] = df['text'].map(lambda x: replace_with_regex(x))\n",
    "\n",
    "    return df\n",
    "\n",
    "for i, df in enumerate(df_list):\n",
    "    new_df = df_combine_clean(df)\n",
    "    df_list[i] = new_df\n",
    "\n",
    "# reformulate df with columns relavant for modeling\n",
    "def reformulate_df(df):\n",
    "    df = df[['status_type', emotion_type, 'text', 'status_message', 'link_name']]\n",
    "    return df\n",
    "\n",
    "for i, df in enumerate(df_list):\n",
    "    new_df = reformulate_df(df)\n",
    "    df_list[i] = new_df\n",
    "    \n",
    "# combine 5 dataframes into one\n",
    "df = pd.concat(df_list, axis =0)\n",
    "\n",
    "#include more stopwords after looking into the text data for each dataset\n",
    "stop = stopwords.words('english')\n",
    "new_stop = [\"timeline\", \"photos\", \"th\", \"wholefoodsmarket\", \"com\", \"http\", \"archive\", \"weve\", \"www\",\n",
    "           'whole', \"market\", \"do\", \"you\", \"blog\", \"here\", \"timeline photos\", \"throughout\", \"us\", \n",
    "            \"know\", \"would\", \"users\", \"nan\", \"cover\", \"https\", \"facebook\", \"instagram\", \"user\",\n",
    "           \"aack\", \"sprouts\", \"farmers\", \"market\", \"com\", \"brand\", \"phoenix\", \"az\", \"grand\", \"express\", \n",
    "            \"enter\", \"win\", \"timeline\", \"location\", \"express\", \"high\", \"street\", \"access\", \"complete\", \n",
    "            \"winning\", \"item\", \"right\", \"facebook\", \"photos\", \"great\",  \"get\", \"abc\", \"sharing\", \"activity\", \n",
    "            \"year\", \"acts\", \"actual\", \"actually\", \"yet\", \"walmart\", \"better\", \"black\", \"www\", \"first\", \"everything\",\n",
    "            \"store\", \"back\", \"tell\", \"us\", \"timeline\", \"cover\", \"photo\", \"use\", \"vary\", \"pinterest\", \"able\",\n",
    "           \"time\" , \"tab\", \"savings\", \"board\", \"next\", \"online\", \"time\", \"restrictions\", \"apply\", \"like\", \"timeline\", \n",
    "            \"photos\", \"kroger\", \"com\", \"must\", \"redeem\", \"pm\", \"pt\", \"redeem\", \"join\", \"us\", \"chance\", \"win\", \"tell\", \n",
    "            \"us\", \"breast\", \"cancer\", \"new\", \"year\", \"show\", \"us\", \"coca\", \"cola\", \"january\", \"th\", \"oh\", \"june\", \n",
    "            \"first\", \"customers\", \"receive\",\"oz pm pt\"]\n",
    "\n",
    "stop.extend(new_stop)\n",
    "\n",
    "stop.extend(kroger_stopwords)\n",
    "def create_target(df):\n",
    "    # mean of num_loves col\n",
    "    mean = df[emotion_type].mean()\n",
    "    # create a target column for classification dividing num_loves into 2 classes\n",
    "    df['target'] = df[emotion_type].map(lambda x: 1 if x > mean else 0)\n",
    "    return df\n",
    "\n",
    "df = create_target(df)\n",
    "    \n",
    "# fill_na_and_reset_index again\n",
    "df = fill_na_and_reset_index(df)\n",
    "    \n",
    "# I won't use ngram_range for classification because ngrams increases the number of columns \n",
    "# more text columns, less accurate prediction\n",
    "\n",
    "# Tfidf Vectorizer in order to make text sparse matrix\n",
    "tvt =  TfidfVectorizer(strip_accents='unicode', stop_words = stop, min_df=2)\n",
    "X_all=  tvt.fit_transform(df[\"text\"])\n",
    "x_df =  pd.DataFrame(X_all.toarray(), columns=tvt.get_feature_names())\n",
    "\n",
    "# feature engineering -> create new columns for length of text\n",
    "\n",
    "# create new columns for length of 2 text columns(status message & link name)\n",
    "df['len_status_message'] = df['status_message'].map(lambda x: len(x))\n",
    "df['len_link_name'] = df['link_name'].map(lambda x: len(x))\n",
    "\n",
    "len_text = df[['len_status_message', 'len_link_name']]\n",
    "\n",
    "#combine x_df + len_text to create predictor df\n",
    "df_len_text = pd.concat([x_df, len_text], axis=1)\n",
    "\n",
    "# fill_na_and_reset_index again\n",
    "final_df = fill_na_and_reset_index(df_len_text)\n",
    "\n",
    "final_df['target'] = df.target\n",
    "\n",
    "df_0 = final_df[final_df.target == 0] \n",
    "df_1 = final_df[final_df.target == 1]\n",
    "\n",
    "assert(df.shape[0] == df_0.shape[0] + df_1.shape[0])\n",
    "\n",
    "df_1_oversample = df_1.sample(n=df_0.shape[0], replace=True)\n",
    "# df_0_subsample = df_0.sample(n=df_1.shape[0], replace=True)\n",
    "df_balanced = df_0.append(df_1_oversample)\n",
    "\n",
    "# predictors and target\n",
    "X = df_balanced\n",
    "y = df_balanced['target']\n",
    "\n",
    "# train test split\n",
    "del(X['target'])\n",
    "X_train, X_test, y_train, y_test = train_test_split(X.as_matrix(), y, train_size=0.7, random_state=8)\n",
    "\n",
    "# LogisticRegression\n",
    "logreg = LogisticRegression(verbose=1)\n",
    "logreg.fit(X_train, y_train)\n",
    "print \"logistic regression score: \", logreg.score(X_test, y_test)  # 0.9125\n",
    "\n",
    "# AdaBoostClassifier using DeicisionClassifier\n",
    "from sklearn.ensemble import AdaBoostClassifier\n",
    "from sklearn.tree import DecisionTreeClassifier\n",
    "dc = DecisionTreeClassifier(min_samples_leaf=4, min_samples_split=50, max_depth=50, random_state=11, max_features=.8, class_weight=\"balanced\")\n",
    "estimator = AdaBoostClassifier(base_estimator=dc, n_estimators=40, learning_rate=.001)\n",
    "estimator.fit(X_train, y_train)\n",
    "print \"AdaBoostClassifier Score: \", estimator.score(X_test, y_test) #0.9125"
   ]
  },
  {
   "cell_type": "code",
   "execution_count": null,
   "metadata": {
    "collapsed": true
   },
   "outputs": [],
   "source": [
    "#classification report\n",
    "from sklearn.metrics import classification_report \n",
    "\n",
    "predicted = estimator.predict(X_test)\n",
    "clfr = classification_report(y_test, predicted)\n",
    "\n",
    "print clfr"
   ]
  },
  {
   "cell_type": "code",
   "execution_count": null,
   "metadata": {
    "collapsed": true
   },
   "outputs": [],
   "source": [
    "y_score = estimator.predict_proba(X_test)\n",
    "\n",
    "# ROC \n",
    "from sklearn.metrics import roc_curve, auc\n",
    "\n",
    "fpr, tpr, _ = roc_curve(y_test, y_score[:,1])\n",
    "roc_auc = auc(fpr, tpr)\n",
    "\n",
    "plt.figure(figsize=[8,8])\n",
    "plt.plot(fpr, tpr, color = 'blue', label='ROC curve (area = %0.2f)' % roc_auc, linewidth=4)\n",
    "plt.plot([0, 1], [0, 1], 'k--', linewidth=4)\n",
    "plt.xlim([-0.05, 1.0])\n",
    "plt.ylim([-0.05, 1.05])\n",
    "plt.xlabel('False Positive Rate', fontsize=18)\n",
    "plt.ylabel('True Positive Rate', fontsize=18)\n",
    "plt.title('Num_likes Binary Classification ROC - Logistic Regression', fontsize=18)\n",
    "plt.legend(loc=\"lower right\")\n",
    "plt.show()"
   ]
  },
  {
   "cell_type": "code",
   "execution_count": null,
   "metadata": {
    "collapsed": true
   },
   "outputs": [],
   "source": [
    "from collections import Counter\n",
    "Counter(y_test)"
   ]
  },
  {
   "cell_type": "markdown",
   "metadata": {
    "collapsed": true
   },
   "source": [
    "### Keyword Extraction"
   ]
  },
  {
   "cell_type": "code",
   "execution_count": 41,
   "metadata": {
    "scrolled": true
   },
   "outputs": [
    {
     "name": "stdout",
     "output_type": "stream",
     "text": [
      "shape (14862, 5)\n",
      "(25152, 9578)\n",
      "(25152,)\n",
      "[LibLinear]logistic regression score:  0.810893188444\n",
      "AdaBoostClassifier Score:  0.871587596077\n"
     ]
    }
   ],
   "source": [
    "# num_likes & num_pos\n",
    "# read csv \n",
    "wholefoods = pd.read_csv('./datasets/WholeFoods_facebook_statuses.csv')\n",
    "sprouts = pd.read_csv('./datasets/SproutsFarmersMarket_facebook_statuses.csv')\n",
    "walmart = pd.read_csv('./datasets/walmart_facebook_statuses.csv')\n",
    "safeway = pd.read_csv('./datasets/Safeway_facebook_statuses.csv')\n",
    "kroger = pd.read_csv('./datasets/Kroger_facebook_statuses.csv')\n",
    "\n",
    "# create dataframe list\n",
    "df_list = [wholefoods, sprouts, walmart, safeway, kroger]\n",
    "\n",
    "# create a new columns called num_of_pos which sums up the total number of positive reactions \n",
    "def create_num_pos_col(df):\n",
    "    df['num_likes_pos'] = df['num_likes'] + df['num_loves'] + df['num_hahas'] + df['num_wows']\n",
    "    return df\n",
    "\n",
    "for i, df in enumerate(df_list):\n",
    "    new_df = create_num_pos_col(df)\n",
    "    df_list[i] = new_df\n",
    "\n",
    "# set the name of column of emotions I'll analyze\n",
    "emotion_type = \"num_likes_pos\"\n",
    "\n",
    "# cut out rows before Mar 2016 when Facebook included various sub emojies \n",
    "# such as loves, wows, hahas, sads, angrys\n",
    "# in order to analyze the relationship between those emojis and texts\n",
    "\n",
    "def fill_na_and_reset_index(df):\n",
    "    # fillna with \"\"(empty string)\n",
    "    df = df.replace(np.nan,'', regex=True)\n",
    "    # reset index\n",
    "    df.index = range(df.shape[0])\n",
    "    return df\n",
    "\n",
    "for i, df in enumerate(df_list):\n",
    "    new_df = fill_na_and_reset_index(df)\n",
    "    df_list[i] = new_df\n",
    "\n",
    "# filter extreme outliers (after looking up distribution of the data)\n",
    "from scipy import stats\n",
    "\n",
    "def filter_outliers(df, percentage):\n",
    "    threshold = stats.scoreatpercentile(df[emotion_type], per=percentage)\n",
    "    df = df[df[emotion_type] <= threshold]\n",
    "    return df\n",
    "\n",
    "for i, df in enumerate(df_list):\n",
    "    new_df = filter_outliers(df, 98)\n",
    "    df_list[i] = new_df\n",
    "\n",
    "# fill_na_and_reset_index again\n",
    "for i, df in enumerate(df_list):\n",
    "    new_df = fill_na_and_reset_index(df)\n",
    "    df_list[i] = new_df\n",
    "\n",
    "# filter out posts with a very small number of likes(cut off: least 2%)\n",
    "\n",
    "def filter_low_scores(df, percentage):\n",
    "    least_ten = stats.scoreatpercentile(df.num_likes, per=percentage)\n",
    "    df = df[df.num_likes >= least_ten]\n",
    "    return df\n",
    "\n",
    "for i, df in enumerate(df_list):\n",
    "    new_df = filter_low_scores(df, 2)\n",
    "    df_list[i] = new_df\n",
    "    \n",
    "# fill_na_and_reset_index again\n",
    "for i, df in enumerate(df_list):\n",
    "    new_df = fill_na_and_reset_index(df)\n",
    "    df_list[i] = new_df\n",
    "\n",
    "# normalize the data dividing num_likes by the number of fans who like the each page(May 26, 2017)\n",
    "num_like_page_wholefoods = 4182807.0\n",
    "num_like_page_sprouts = 1382503.0\n",
    "num_like_page_walmart = 33200531.0\n",
    "num_like_page_safeway = 1300844.0\n",
    "num_like_page_kroger = 1393202.0\n",
    "\n",
    "df_list[0][emotion_type] = df_list[0][emotion_type].map(lambda x: x / num_like_page_wholefoods)\n",
    "df_list[1][emotion_type] = df_list[1][emotion_type].map(lambda x: x / num_like_page_sprouts)\n",
    "df_list[2][emotion_type] = df_list[2][emotion_type].map(lambda x: x / num_like_page_walmart)\n",
    "df_list[3][emotion_type] = df_list[3][emotion_type].map(lambda x: x / num_like_page_safeway)\n",
    "df_list[4][emotion_type] = df_list[4][emotion_type].map(lambda x: x / num_like_page_kroger)\n",
    "    \n",
    "\n",
    "def df_combine_clean(df):\n",
    "    # fillna with \"\"(empty string)\n",
    "    df = df.replace(np.nan,'', regex=True)\n",
    "\n",
    "    # reset index\n",
    "    df.index = range(df.shape[0])\n",
    "\n",
    "    # fill na with empty string\n",
    "    df[\"status_message\"] = df[\"status_message\"].fillna(\"\")\n",
    "    df[\"link_name\"] = df[\"link_name\"].fillna(\"\")\n",
    "\n",
    "    # combine 'status messsage' and 'link name' column into 'text column' \n",
    "    df[\"text\"] = df[\"status_message\"].map(str) + \" \" + df[\"link_name\"]\n",
    "\n",
    "    # clean text column with 'replace_with_regex' function\n",
    "    # remove numbers, special characters\n",
    "    df['text'] = df['text'].map(lambda x: replace_with_regex(x))\n",
    "\n",
    "    return df\n",
    "\n",
    "for i, df in enumerate(df_list):\n",
    "    new_df = df_combine_clean(df)\n",
    "    df_list[i] = new_df\n",
    "\n",
    "# reformulate df with columns relavant for modeling\n",
    "def reformulate_df(df):\n",
    "    df = df[['status_type', emotion_type, 'text', 'status_message', 'link_name']]\n",
    "    return df\n",
    "\n",
    "for i, df in enumerate(df_list):\n",
    "    new_df = reformulate_df(df)\n",
    "    df_list[i] = new_df\n",
    "    \n",
    "# combine 5 dataframes into one\n",
    "df = pd.concat(df_list, axis =0)\n",
    "\n",
    "print \"shape\", df.shape\n",
    "\n",
    "#include more stopwords after looking into the text data for each dataset\n",
    "stop = stopwords.words('english')\n",
    "new_stop = [\"timeline\", \"photos\", \"th\", \"wholefoodsmarket\", \"com\", \"http\", \"archive\", \"weve\", \"www\",\n",
    "           'whole', \"market\", \"do\", \"you\", \"blog\", \"here\", \"timeline photos\", \"throughout\", \"us\", \n",
    "            \"know\", \"would\", \"users\", \"nan\", \"cover\", \"https\", \"facebook\", \"instagram\", \"user\",\n",
    "           \"aack\", \"sprouts\", \"farmers\", \"market\", \"com\", \"brand\", \"phoenix\", \"az\", \"grand\", \"express\", \n",
    "            \"enter\", \"win\", \"timeline\", \"location\", \"express\", \"high\", \"street\", \"access\", \"complete\", \n",
    "            \"winning\", \"item\", \"right\", \"facebook\", \"photos\", \"great\",  \"get\", \"abc\", \"sharing\", \"activity\", \n",
    "            \"year\", \"acts\", \"actual\", \"actually\", \"yet\", \"walmart\", \"better\", \"black\", \"www\", \"first\", \"everything\",\n",
    "            \"store\", \"back\", \"tell\", \"us\", \"timeline\", \"cover\", \"photo\", \"use\", \"vary\", \"pinterest\", \"able\",\n",
    "           \"time\" , \"tab\", \"savings\", \"board\", \"next\", \"online\", \"time\", \"restrictions\", \"apply\", \"like\", \"timeline\", \n",
    "            \"photos\", \"kroger\", \"com\", \"must\", \"redeem\", \"pm\", \"pt\", \"redeem\", \"join\", \"us\", \"chance\", \"win\", \"tell\", \n",
    "            \"us\", \"breast\", \"cancer\", \"new\", \"year\", \"show\", \"us\", \"coca\", \"cola\", \"january\", \"th\", \"oh\", \"june\", \n",
    "            \"first\", \"customers\", \"receive\",\"oz pm pt\"]\n",
    "\n",
    "stop.extend(new_stop)\n",
    "\n",
    "def create_target(df):\n",
    "    # mean of num_loves col\n",
    "    mean = df[emotion_type].mean()\n",
    "    # create a target column for classification dividing num_loves into 2 classes\n",
    "    df['target'] = df[emotion_type].map(lambda x: 1 if x > mean else 0)\n",
    "    return df\n",
    "\n",
    "df = create_target(df)\n",
    "    \n",
    "# fill_na_and_reset_index again\n",
    "df = fill_na_and_reset_index(df)\n",
    "    \n",
    "# I won't use ngram_range for classification because ngrams increases the number of columns \n",
    "# more text columns, less accurate prediction\n",
    "\n",
    "# Tfidf Vectorizer in order to make text sparse matrix\n",
    "tvt =  TfidfVectorizer(strip_accents='unicode', stop_words = stop, min_df=2)\n",
    "X_all=  tvt.fit_transform(df[\"text\"])\n",
    "x_df =  pd.DataFrame(X_all.toarray(), columns=tvt.get_feature_names())\n",
    "\n",
    "# feature engineering -> create new columns for length of text\n",
    "\n",
    "# create new columns for length of 2 text columns(status message & link name)\n",
    "df['len_status_message'] = df['status_message'].map(lambda x: len(x))\n",
    "df['len_link_name'] = df['link_name'].map(lambda x: len(x))\n",
    "\n",
    "len_text = df[['len_status_message', 'len_link_name']]\n",
    "\n",
    "#combine x_df + len_text to create predictor df\n",
    "df_len_text = pd.concat([x_df, len_text], axis=1)\n",
    "\n",
    "# fill_na_and_reset_index again\n",
    "final_df = fill_na_and_reset_index(df_len_text)\n",
    "\n",
    "final_df['target'] = df.target\n",
    "\n",
    "df_0 = final_df[final_df.target == 0] \n",
    "df_1 = final_df[final_df.target == 1]\n",
    "\n",
    "assert(df.shape[0] == df_0.shape[0] + df_1.shape[0])\n",
    "\n",
    "df_1_oversample = df_1.sample(n=df_0.shape[0], replace=True)\n",
    "# df_0_subsample = df_0.sample(n=df_1.shape[0], replace=True)\n",
    "df_balanced = df_0.append(df_1_oversample)\n",
    "\n",
    "# predictors and target\n",
    "X = df_balanced\n",
    "y = df_balanced['target']\n",
    "\n",
    "print X.shape\n",
    "print y.shape\n",
    "\n",
    "# train test split\n",
    "del(X['target'])\n",
    "X_train, X_test, y_train, y_test = train_test_split(X.as_matrix(), y, train_size=0.7, random_state=8)\n",
    "\n",
    "# LogisticRegression\n",
    "logreg = LogisticRegression(verbose=1)\n",
    "logreg.fit(X_train, y_train)\n",
    "print \"logistic regression score: \", logreg.score(X_test, y_test)  # 0.9125\n",
    "\n",
    "# AdaBoostClassifier using DeicisionClassifier\n",
    "from sklearn.ensemble import AdaBoostClassifier\n",
    "from sklearn.tree import DecisionTreeClassifier\n",
    "dc = DecisionTreeClassifier(min_samples_leaf=4, min_samples_split=50, max_depth=50, random_state=11, max_features=.8, class_weight=\"balanced\")\n",
    "estimator = AdaBoostClassifier(base_estimator=dc, n_estimators=40, learning_rate=.001)\n",
    "estimator.fit(X_train, y_train)\n",
    "print \"AdaBoostClassifier Score: \", estimator.score(X_test, y_test) #0.9125"
   ]
  },
  {
   "cell_type": "code",
   "execution_count": 2,
   "metadata": {},
   "outputs": [],
   "source": [
    "#classification report\n",
    "from sklearn.metrics import classification_report \n",
    "\n",
    "predicted = logreg.predict(X_test)\n",
    "clfr = classification_report(y_test, predicted)\n",
    "\n",
    "print clfr"
   ]
  },
  {
   "cell_type": "code",
   "execution_count": null,
   "metadata": {
    "collapsed": true
   },
   "outputs": [],
   "source": []
  }
 ],
 "metadata": {
  "anaconda-cloud": {},
  "kernelspec": {
   "display_name": "Python [default]",
   "language": "python",
   "name": "python2"
  },
  "language_info": {
   "codemirror_mode": {
    "name": "ipython",
    "version": 2
   },
   "file_extension": ".py",
   "mimetype": "text/x-python",
   "name": "python",
   "nbconvert_exporter": "python",
   "pygments_lexer": "ipython2",
   "version": "2.7.13"
  }
 },
 "nbformat": 4,
 "nbformat_minor": 2
}
